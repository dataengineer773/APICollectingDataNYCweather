{
 "cells": [
  {
   "cell_type": "code",
   "execution_count": 1,
   "id": "3528f59a-3ce8-40d9-b0c6-49bffa60630f",
   "metadata": {},
   "outputs": [],
   "source": [
    "import requests\n",
    "\n",
    "def make_request(endpoint, payload=None):\n",
    "    \"\"\"\n",
    "    Make a request to a specific endpoint on the weather API\n",
    "    passing headers and optional payload.\n",
    "    \n",
    "    Parameters:\n",
    "        - endpoint: The endpoint of the API you want to \n",
    "                    make a GET request to.\n",
    "        - payload: A dictionary of data to pass along \n",
    "                   with the request.\n",
    "    \n",
    "    Returns:\n",
    "        Response object.\n",
    "    \"\"\"\n",
    "    return requests.get(\n",
    "        f'https://www.ncdc.noaa.gov/cdo-web/api/v2/{endpoint}',\n",
    "        headers={\n",
    "            'token': 'PASTE_YOUR_TOKEN_HERE'\n",
    "        },\n",
    "        params=payload\n",
    "    )"
   ]
  },
  {
   "cell_type": "code",
   "execution_count": 2,
   "id": "e5b1e7c8-701a-4c9b-a426-6fee2f983c0e",
   "metadata": {},
   "outputs": [
    {
     "data": {
      "text/plain": [
       "'Gathering data for 2018-12-31'"
      ]
     },
     "metadata": {},
     "output_type": "display_data"
    },
    {
     "name": "stdout",
     "output_type": "stream",
     "text": [
      "The DataFrame is empty. No data was collected.\n"
     ]
    }
   ],
   "source": [
    "import datetime\n",
    "import pandas as pd\n",
    "from IPython import display  # for updating the cell dynamically\n",
    "\n",
    "def make_request(endpoint, params):\n",
    "    url = f'https://www.ncdc.noaa.gov/cdo-web/api/v2/{endpoint}'\n",
    "    headers = {\n",
    "        'token': 'YOUR_API_TOKEN'  # Replace with your actual API token\n",
    "    }\n",
    "    response = requests.get(url, headers=headers, params=params)\n",
    "    return response\n",
    "\n",
    "current = datetime.date(2018, 1, 1)\n",
    "end = datetime.date(2018, 12, 31)\n",
    "\n",
    "results = []\n",
    "\n",
    "while current <= end:\n",
    "    # update the cell with status information\n",
    "    display.clear_output(wait=True)\n",
    "    display.display(f'Gathering data for {str(current)}')\n",
    "    \n",
    "    response = make_request(\n",
    "        'data', \n",
    "        {\n",
    "            'datasetid': 'GHCND',  # Global Historical Climatology Network - Daily (GHCND) dataset\n",
    "            'locationid': 'CITY:US360019',  # NYC\n",
    "            'startdate': current,\n",
    "            'enddate': current,\n",
    "            'units': 'metric',\n",
    "            'limit': 1000  # max allowed\n",
    "        }\n",
    "    )\n",
    "\n",
    "    if response.ok:\n",
    "        data = response.json()\n",
    "        # Print the response to inspect its structure\n",
    "        print(f\"Data for {current}: {data}\")\n",
    "        if 'results' in data:\n",
    "            # we extend the list instead of appending to avoid getting a nested list\n",
    "            results.extend(data['results'])\n",
    "        else:\n",
    "            print(f\"No 'results' key in response for {current}\")\n",
    "\n",
    "    # update the current date to avoid an infinite loop\n",
    "    current += datetime.timedelta(days=1)\n",
    "\n",
    "# Create a DataFrame from the results\n",
    "df = pd.DataFrame(results)\n",
    "\n",
    "# Check if the DataFrame is empty\n",
    "if df.empty:\n",
    "    print(\"The DataFrame is empty. No data was collected.\")\n",
    "else:\n",
    "    # Display the DataFrame\n",
    "    from IPython.display import display\n",
    "    display(df.head())"
   ]
  }
 ],
 "metadata": {
  "kernelspec": {
   "display_name": "Python 3 (ipykernel)",
   "language": "python",
   "name": "python3"
  },
  "language_info": {
   "codemirror_mode": {
    "name": "ipython",
    "version": 3
   },
   "file_extension": ".py",
   "mimetype": "text/x-python",
   "name": "python",
   "nbconvert_exporter": "python",
   "pygments_lexer": "ipython3",
   "version": "3.10.12"
  }
 },
 "nbformat": 4,
 "nbformat_minor": 5
}
